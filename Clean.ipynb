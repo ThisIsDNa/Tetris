{
 "cells": [
  {
   "cell_type": "code",
   "execution_count": 2,
   "metadata": {},
   "outputs": [],
   "source": [
    "import pandas as pd\n",
    "import plotly.plotly as py\n",
    "import plotly.graph_objs as go"
   ]
  },
  {
   "cell_type": "code",
   "execution_count": 35,
   "metadata": {},
   "outputs": [],
   "source": [
    "max_data = pd.read_csv('max10.txt', sep=\" \", header=None)\n",
    "max_data.columns = [\"max\"]"
   ]
  },
  {
   "cell_type": "code",
   "execution_count": 36,
   "metadata": {},
   "outputs": [],
   "source": [
    "mean_data = pd.read_csv('mean10.txt', sep=\" \", header=None)\n",
    "mean_data.columns = [\"mean\"]"
   ]
  },
  {
   "cell_type": "code",
   "execution_count": 37,
   "metadata": {},
   "outputs": [],
   "source": [
    "min_data = pd.read_csv('min10.txt', sep=\" \", header=None)\n",
    "min_data.columns = [\"min\"]"
   ]
  },
  {
   "cell_type": "code",
   "execution_count": 38,
   "metadata": {},
   "outputs": [],
   "source": [
    "std_data = pd.read_csv('std10.txt', sep=\" \", header=None)\n",
    "std_data.columns = [\"std\"]"
   ]
  },
  {
   "cell_type": "code",
   "execution_count": 39,
   "metadata": {},
   "outputs": [],
   "source": [
    "var_data = pd.read_csv('var10.txt', sep=\" \", header=None)\n",
    "var_data.columns = [\"var\"]"
   ]
  },
  {
   "cell_type": "code",
   "execution_count": 40,
   "metadata": {},
   "outputs": [],
   "source": [
    "frames = [max_data, mean_data, min_data, std_data, var_data]"
   ]
  },
  {
   "cell_type": "code",
   "execution_count": 41,
   "metadata": {},
   "outputs": [],
   "source": [
    "result = pd.concat(frames, axis=1)"
   ]
  },
  {
   "cell_type": "code",
   "execution_count": 42,
   "metadata": {},
   "outputs": [
    {
     "data": {
      "text/html": [
       "<div>\n",
       "<style scoped>\n",
       "    .dataframe tbody tr th:only-of-type {\n",
       "        vertical-align: middle;\n",
       "    }\n",
       "\n",
       "    .dataframe tbody tr th {\n",
       "        vertical-align: top;\n",
       "    }\n",
       "\n",
       "    .dataframe thead th {\n",
       "        text-align: right;\n",
       "    }\n",
       "</style>\n",
       "<table border=\"1\" class=\"dataframe\">\n",
       "  <thead>\n",
       "    <tr style=\"text-align: right;\">\n",
       "      <th></th>\n",
       "      <th>max</th>\n",
       "      <th>mean</th>\n",
       "      <th>min</th>\n",
       "      <th>std</th>\n",
       "      <th>var</th>\n",
       "    </tr>\n",
       "  </thead>\n",
       "  <tbody>\n",
       "    <tr>\n",
       "      <th>0</th>\n",
       "      <td>1001827</td>\n",
       "      <td>40527.44</td>\n",
       "      <td>75</td>\n",
       "      <td>196225.732360</td>\n",
       "      <td>3.850454e+10</td>\n",
       "    </tr>\n",
       "    <tr>\n",
       "      <th>1</th>\n",
       "      <td>167735</td>\n",
       "      <td>17832.68</td>\n",
       "      <td>189</td>\n",
       "      <td>39583.846969</td>\n",
       "      <td>1.566881e+09</td>\n",
       "    </tr>\n",
       "    <tr>\n",
       "      <th>2</th>\n",
       "      <td>659904</td>\n",
       "      <td>103333.60</td>\n",
       "      <td>340</td>\n",
       "      <td>178864.113890</td>\n",
       "      <td>3.199237e+10</td>\n",
       "    </tr>\n",
       "    <tr>\n",
       "      <th>3</th>\n",
       "      <td>2478120</td>\n",
       "      <td>387437.68</td>\n",
       "      <td>1195</td>\n",
       "      <td>603611.001781</td>\n",
       "      <td>3.643462e+11</td>\n",
       "    </tr>\n",
       "    <tr>\n",
       "      <th>4</th>\n",
       "      <td>2306652</td>\n",
       "      <td>489714.52</td>\n",
       "      <td>2135</td>\n",
       "      <td>749068.511552</td>\n",
       "      <td>5.611036e+11</td>\n",
       "    </tr>\n",
       "  </tbody>\n",
       "</table>\n",
       "</div>"
      ],
      "text/plain": [
       "       max       mean   min            std           var\n",
       "0  1001827   40527.44    75  196225.732360  3.850454e+10\n",
       "1   167735   17832.68   189   39583.846969  1.566881e+09\n",
       "2   659904  103333.60   340  178864.113890  3.199237e+10\n",
       "3  2478120  387437.68  1195  603611.001781  3.643462e+11\n",
       "4  2306652  489714.52  2135  749068.511552  5.611036e+11"
      ]
     },
     "execution_count": 42,
     "metadata": {},
     "output_type": "execute_result"
    }
   ],
   "source": [
    "result.head()"
   ]
  },
  {
   "cell_type": "code",
   "execution_count": 43,
   "metadata": {},
   "outputs": [],
   "source": [
    "ga_result = result.to_csv('ga_data10.csv', index=False)"
   ]
  },
  {
   "cell_type": "code",
   "execution_count": 44,
   "metadata": {},
   "outputs": [],
   "source": [
    "ga_test10 = pd.read_csv('ga_data10.csv', keep_default_na=False, na_values=[\"\"])"
   ]
  },
  {
   "cell_type": "code",
   "execution_count": 45,
   "metadata": {},
   "outputs": [
    {
     "data": {
      "text/html": [
       "<div>\n",
       "<style scoped>\n",
       "    .dataframe tbody tr th:only-of-type {\n",
       "        vertical-align: middle;\n",
       "    }\n",
       "\n",
       "    .dataframe tbody tr th {\n",
       "        vertical-align: top;\n",
       "    }\n",
       "\n",
       "    .dataframe thead th {\n",
       "        text-align: right;\n",
       "    }\n",
       "</style>\n",
       "<table border=\"1\" class=\"dataframe\">\n",
       "  <thead>\n",
       "    <tr style=\"text-align: right;\">\n",
       "      <th></th>\n",
       "      <th>max</th>\n",
       "      <th>mean</th>\n",
       "      <th>min</th>\n",
       "      <th>std</th>\n",
       "      <th>var</th>\n",
       "    </tr>\n",
       "  </thead>\n",
       "  <tbody>\n",
       "    <tr>\n",
       "      <th>0</th>\n",
       "      <td>1001827</td>\n",
       "      <td>40527.44</td>\n",
       "      <td>75</td>\n",
       "      <td>196225.732360</td>\n",
       "      <td>3.850454e+10</td>\n",
       "    </tr>\n",
       "    <tr>\n",
       "      <th>1</th>\n",
       "      <td>167735</td>\n",
       "      <td>17832.68</td>\n",
       "      <td>189</td>\n",
       "      <td>39583.846969</td>\n",
       "      <td>1.566881e+09</td>\n",
       "    </tr>\n",
       "    <tr>\n",
       "      <th>2</th>\n",
       "      <td>659904</td>\n",
       "      <td>103333.60</td>\n",
       "      <td>340</td>\n",
       "      <td>178864.113890</td>\n",
       "      <td>3.199237e+10</td>\n",
       "    </tr>\n",
       "    <tr>\n",
       "      <th>3</th>\n",
       "      <td>2478120</td>\n",
       "      <td>387437.68</td>\n",
       "      <td>1195</td>\n",
       "      <td>603611.001781</td>\n",
       "      <td>3.643462e+11</td>\n",
       "    </tr>\n",
       "    <tr>\n",
       "      <th>4</th>\n",
       "      <td>2306652</td>\n",
       "      <td>489714.52</td>\n",
       "      <td>2135</td>\n",
       "      <td>749068.511552</td>\n",
       "      <td>5.611036e+11</td>\n",
       "    </tr>\n",
       "  </tbody>\n",
       "</table>\n",
       "</div>"
      ],
      "text/plain": [
       "       max       mean   min            std           var\n",
       "0  1001827   40527.44    75  196225.732360  3.850454e+10\n",
       "1   167735   17832.68   189   39583.846969  1.566881e+09\n",
       "2   659904  103333.60   340  178864.113890  3.199237e+10\n",
       "3  2478120  387437.68  1195  603611.001781  3.643462e+11\n",
       "4  2306652  489714.52  2135  749068.511552  5.611036e+11"
      ]
     },
     "execution_count": 45,
     "metadata": {},
     "output_type": "execute_result"
    }
   ],
   "source": [
    "ga_test10.head()"
   ]
  },
  {
   "cell_type": "code",
   "execution_count": 46,
   "metadata": {},
   "outputs": [],
   "source": [
    "ten_tests = [1,2,3,4,5,6,7,8,9,10]"
   ]
  },
  {
   "cell_type": "code",
   "execution_count": 7,
   "metadata": {},
   "outputs": [],
   "source": [
    "number_of_tests = [1,2,3,4,5,6,7,8,9,10,\n",
    "         11,12,13,14,15,16,17,18,19,20,\n",
    "         21,22,23,24,25,26,27,28,29,30,\n",
    "         31,32,33,34,35,36,37,38,39,40,\n",
    "         41,42,43,44,45,46,47,48,49,50,\n",
    "         51,52,53,54,55,56,57,58,59,60,\n",
    "         61,62,63,64,65,66,67,68,69,70,\n",
    "         71,72,73,74,75,76,77,78,79,80,\n",
    "         81,82,83,84,85,86,87,88,89,90,\n",
    "         91,92,93,94,95,96,97,98,99,100]"
   ]
  },
  {
   "cell_type": "code",
   "execution_count": 47,
   "metadata": {},
   "outputs": [
    {
     "data": {
      "text/html": [
       "<iframe id=\"igraph\" scrolling=\"no\" style=\"border:none;\" seamless=\"seamless\" src=\"https://plot.ly/~ThisIsDNa/8.embed\" height=\"525px\" width=\"100%\"></iframe>"
      ],
      "text/plain": [
       "<plotly.tools.PlotlyDisplay object>"
      ]
     },
     "execution_count": 47,
     "metadata": {},
     "output_type": "execute_result"
    }
   ],
   "source": [
    "# Create traces\n",
    "trace0 = go.Scatter(\n",
    "    x = ten_tests,\n",
    "    y = ga_test10['max'],\n",
    "    mode = 'lines',\n",
    "    name = 'Maximum Score'\n",
    ")\n",
    "# trace1 = go.Scatter(\n",
    "#     x = number_of_tests,\n",
    "#     y = ga_test['mean'],\n",
    "#     mode = 'lines+markers',\n",
    "#     name = 'Mean Score'\n",
    "# )\n",
    "trace2 = go.Scatter(\n",
    "    x = ten_tests,\n",
    "    y = ga_test10['std'],\n",
    "    fill='tozeroy',\n",
    "    name = 'Standard Deviation',\n",
    "    mode= 'none'\n",
    ")\n",
    "data = [trace0, trace2]\n",
    "layout = go.Layout(\n",
    "    title='10 Tetris Samples',\n",
    "    barmode='overlay',\n",
    "    xaxis=dict(\n",
    "        title='Number of Games'\n",
    "    ),\n",
    "    yaxis=dict(\n",
    "        title='Score'\n",
    "    ),\n",
    ")\n",
    "fig = go.Figure(data=data, layout=layout)\n",
    "py.iplot(fig, filename='line-mode')"
   ]
  },
  {
   "cell_type": "code",
   "execution_count": 49,
   "metadata": {},
   "outputs": [
    {
     "data": {
      "text/html": [
       "<iframe id=\"igraph\" scrolling=\"no\" style=\"border:none;\" seamless=\"seamless\" src=\"https://plot.ly/~ThisIsDNa/10.embed\" height=\"525px\" width=\"100%\"></iframe>"
      ],
      "text/plain": [
       "<plotly.tools.PlotlyDisplay object>"
      ]
     },
     "execution_count": 49,
     "metadata": {},
     "output_type": "execute_result"
    }
   ],
   "source": [
    "trace1 = go.Histogram(\n",
    "    x=ga_test10['var'],\n",
    "    opacity=0.75,\n",
    "    name = 'Variability'\n",
    ")\n",
    "data = [trace1]\n",
    "layout = go.Layout(\n",
    "    title='10 Tetris Samples: Variability',\n",
    "    barmode='overlay',\n",
    "    xaxis=dict(\n",
    "        title='Score'\n",
    "    ),\n",
    "    yaxis=dict(\n",
    "        title='Number of Games'\n",
    "    ),\n",
    ")\n",
    "fig = go.Figure(data=data, layout=layout)\n",
    "\n",
    "py.iplot(fig, filename='overlaid histogram')"
   ]
  },
  {
   "cell_type": "code",
   "execution_count": 29,
   "metadata": {},
   "outputs": [
    {
     "data": {
      "text/html": [
       "<iframe id=\"igraph\" scrolling=\"no\" style=\"border:none;\" seamless=\"seamless\" src=\"https://plot.ly/~ThisIsDNa/10.embed\" height=\"525px\" width=\"100%\"></iframe>"
      ],
      "text/plain": [
       "<plotly.tools.PlotlyDisplay object>"
      ]
     },
     "execution_count": 29,
     "metadata": {},
     "output_type": "execute_result"
    }
   ],
   "source": [
    "trace1 = go.Histogram(\n",
    "    x=ga_test['std'],\n",
    "    opacity=0.75,\n",
    "    name = 'Standard Deviation'\n",
    ")\n",
    "data = [trace1]\n",
    "layout = go.Layout(\n",
    "    title='100 Tetris Samples: Standard Deviation',\n",
    "    barmode='overlay',\n",
    "    xaxis=dict(\n",
    "        title='Score'\n",
    "    ),\n",
    "    yaxis=dict(\n",
    "        title='Number of Games'\n",
    "    ),\n",
    ")\n",
    "fig = go.Figure(data=data, layout=layout)\n",
    "\n",
    "py.iplot(fig, filename='overlaid histogram')"
   ]
  },
  {
   "cell_type": "code",
   "execution_count": null,
   "metadata": {},
   "outputs": [],
   "source": []
  }
 ],
 "metadata": {
  "kernelspec": {
   "display_name": "Python 3",
   "language": "python",
   "name": "python3"
  },
  "language_info": {
   "codemirror_mode": {
    "name": "ipython",
    "version": 3
   },
   "file_extension": ".py",
   "mimetype": "text/x-python",
   "name": "python",
   "nbconvert_exporter": "python",
   "pygments_lexer": "ipython3",
   "version": "3.7.2"
  }
 },
 "nbformat": 4,
 "nbformat_minor": 2
}
